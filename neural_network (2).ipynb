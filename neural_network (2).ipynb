{
  "nbformat": 4,
  "nbformat_minor": 0,
  "metadata": {
    "colab": {
      "name": "neural_network.ipynb",
      "provenance": [],
      "collapsed_sections": []
    },
    "kernelspec": {
      "name": "python3",
      "display_name": "Python 3"
    },
    "language_info": {
      "name": "python"
    }
  },
  "cells": [
    {
      "cell_type": "code",
      "metadata": {
        "id": "XLNhl2VvGgLX"
      },
      "source": [
        "from tensorflow.keras.datasets import mnist\n",
        "(X_train, Y_train), (X_test, Y_test) = mnist.load_data()\n",
        "import numpy as np\n",
        "import matplotlib.pyplot as plt"
      ],
      "execution_count": 84,
      "outputs": []
    },
    {
      "cell_type": "code",
      "metadata": {
        "colab": {
          "base_uri": "https://localhost:8080/"
        },
        "id": "yyRrRSgGG3Xs",
        "outputId": "166ce85e-3c5e-417a-a02f-5a0c5b5d8a3b"
      },
      "source": [
        "#[0 1 2] -> [1 0 0] [0 1 0] [0 0 1]\n",
        "#vector zeros co do dai bang so class -> vector độ dài C -> [0, 0, 0..., 0]-> dữ liệu đc gán nhãn j -> y[j] = 1\n",
        "from keras.utils import np_utils\n",
        "n_classes = len(set(list(Y_train)))\n",
        "Y_train = np_utils.to_categorical(Y_train)\n",
        "print(Y_train.shape)"
      ],
      "execution_count": 85,
      "outputs": [
        {
          "output_type": "stream",
          "name": "stdout",
          "text": [
            "(60000, 10)\n"
          ]
        }
      ]
    },
    {
      "cell_type": "code",
      "metadata": {
        "colab": {
          "base_uri": "https://localhost:8080/"
        },
        "id": "O3ssQYwLId-O",
        "outputId": "6b3b82cc-943d-4231-b382-d97828801167"
      },
      "source": [
        "X_train = X_train.reshape(X_train.shape[0], X_train.shape[1] * X_train.shape[2])\n",
        "X_train = np.hstack((X_train, np.zeros((X_train.shape[0], 1))))\n",
        "print(X_train.shape)"
      ],
      "execution_count": 86,
      "outputs": [
        {
          "output_type": "stream",
          "name": "stdout",
          "text": [
            "(60000, 785)\n"
          ]
        }
      ]
    },
    {
      "cell_type": "code",
      "metadata": {
        "id": "5-7EQp_8JcLA"
      },
      "source": [
        "def softmax(Z):\n",
        "  #print(Z.shape)\n",
        "  #e^a/(e^a + e^b + e^c) = e^(a - c) / e^(a-c) + e^(b-c) + 1\n",
        "  max_Z = np.max(Z, axis = 1)\n",
        "  #Z co shape (N, classes)\n",
        "  #print(max_Z.shape)\n",
        "  Z_t = Z.T\n",
        "  Z_t = Z_t - max_Z\n",
        "  new_Z = Z_t.T\n",
        "  new_Z = np.exp(new_Z)\n",
        "  sum_eZT = np.sum(new_Z, axis = 1).reshape(-1)\n",
        "  ez_T = new_Z.T\n",
        "  ez_T /= sum_eZT\n",
        "  ez = ez_T.T\n",
        "  return ez"
      ],
      "execution_count": 87,
      "outputs": []
    },
    {
      "cell_type": "code",
      "metadata": {
        "colab": {
          "base_uri": "https://localhost:8080/"
        },
        "id": "9KUq-KbzQ0K9",
        "outputId": "6a5c32c6-7a2d-4fc8-94df-5855b19f5e8a"
      },
      "source": [
        "def relu(Z):\n",
        "  new_Z = Z\n",
        "  new_Z[new_Z < 0] = 0.\n",
        "  return new_Z\n",
        "def sigmoid(Z):\n",
        "  return 1/(np.exp(-Z) + 1)\n",
        "def activation(Z, type):\n",
        "  if type == \"relu\":\n",
        "    return relu(Z)\n",
        "  if type == \"softmax\":\n",
        "    return softmax(Z)\n",
        "  if type == \"sigmoid\":\n",
        "    return sigmoid(Z)\n",
        "  return Z\n",
        "def gradient(Z, type):\n",
        "  if type == \"relu\":\n",
        "    new_Z = np.ones(Z.shape)\n",
        "    new_Z[new_Z < 0] = 0.\n",
        "    return new_Z\n",
        "  if type == \"softmax\":\n",
        "    return softmax(Z) * (1 - softmax(Z))\n",
        "  if type == \"sigmoid\":\n",
        "    return sigmoid(Z) * (1 -sigmoid(Z))\n",
        "  return np.ones(Z.shape)\n",
        "def crossentropy_loss(Z, Y):\n",
        "  return -np.sum(np.sum(Y * np.log(Z), axis = 1),axis = 0)/Y.shape[0]\n",
        "class NeuralNetwork():\n",
        "  def __init__(self, layers_node, layers_activation, input, output):\n",
        "    #(200, 10)-> 128 -> [200, 128]-> (10, 128)\n",
        "    #layers_information : [(128, \"\"), (128, \"softmax\")]\n",
        "    self.layers_activation = layers_activation\n",
        "    self.layers_node = layers_node\n",
        "    #np.random.rand(self.layers_node[index - 1], layer_node)\n",
        "    #np.full((input.shape[1], layer_node), 0.1)\n",
        "    #np.full((self.layers_node[index - 1], layer_node)\n",
        "    self.weights = [(np.random.rand(input.shape[1], layer_node)/1e6 if index == 0 else np.random.rand(self.layers_node[index - 1], layer_node)/1e6) \n",
        "                      for (index, layer_node) in enumerate(self.layers_node)]\n",
        "    self.input = input\n",
        "    self.output = output\n",
        "  def feed_forward(self, input):\n",
        "    output = input.copy()\n",
        "    Z = []\n",
        "    A = []\n",
        "    A.append(input)\n",
        "    for index, weight in enumerate(self.weights):\n",
        "      output = output.dot(weight)\n",
        "      Z.append(output)\n",
        "      output = activation(output, self.layers_activation[index])\n",
        "      A.append(output)\n",
        "    return Z, A\n",
        "  def backpropagation(self, input, output, lr):\n",
        "      Z, A = self.feed_forward(input)\n",
        "      #print(Z[0].shape)\n",
        "      #print(A[0].shape)\n",
        "      E = []\n",
        "      for i in range(len(self.weights) - 1, -1, -1):\n",
        "        if i == len(self.weights) - 1:\n",
        "          E.append(A[i + 1] - output)\n",
        "        else:\n",
        "          E.append((E[-1].dot(self.weights[i + 1].T))* gradient(Z[i], self.layers_activation[i]))\n",
        "        #print(A[i - 1].shape)\n",
        "        #print(E[-1].shape)\n",
        "        self.weights[i] -= lr * (A[i].T.dot(E[-1]))\n",
        "      return Z, A\n",
        "  def training(self, lr, number_iterations, batch_size):\n",
        "    list_loss = []\n",
        "    for epoch in range(number_iterations):\n",
        "      random = np.random.permutation(int(X_train.shape[0]/batch_size))\n",
        "      sum_loss = 0\n",
        "      for j in random:\n",
        "        Xj = self.input[j * batch_size : (j + 1) * batch_size]\n",
        "        Yj = self.output[j * batch_size : (j + 1) * batch_size]\n",
        "        Z, A = self.backpropagation(Xj, Yj, lr)\n",
        "        sum_loss += crossentropy_loss(A[-1], Yj)\n",
        "      if epoch % 10 == 0:\n",
        "        print(\"Epoch {}: loss value = {}\".format(epoch, sum_loss / random.shape[0]))\n",
        "        list_loss.append(sum_loss / random.shape[0])\n",
        "    return list_loss\n",
        "model = NeuralNetwork([128, n_classes], [\"sigmoid\", \"softmax\"], X_train, Y_train)\n",
        "history = model.training(1e-5, 300, 32)\n",
        "#4600 = N \n",
        "#200, 100\n",
        "#4600 , 100\n",
        "#100 , 20\n",
        "#4600, 20 * 20, 100 = 4600, 100"
      ],
      "execution_count": 88,
      "outputs": [
        {
          "output_type": "stream",
          "name": "stdout",
          "text": [
            "Epoch 0: loss value = 2.169132577226512\n",
            "Epoch 10: loss value = 1.5317982097205627\n",
            "Epoch 20: loss value = 1.309289415481954\n",
            "Epoch 30: loss value = 0.9575468317451395\n",
            "Epoch 40: loss value = 0.7923913075675655\n",
            "Epoch 50: loss value = 0.7112120200265175\n",
            "Epoch 60: loss value = 0.6674422247228606\n",
            "Epoch 70: loss value = 0.6391364437443364\n",
            "Epoch 80: loss value = 0.6134395349105923\n",
            "Epoch 90: loss value = 0.5246617186850109\n",
            "Epoch 100: loss value = 0.4150384133528178\n",
            "Epoch 110: loss value = 0.32727726424291725\n",
            "Epoch 120: loss value = 0.2694736048698759\n",
            "Epoch 130: loss value = 0.23056510715292086\n",
            "Epoch 140: loss value = 0.2027806760771426\n",
            "Epoch 150: loss value = 0.180989535572708\n",
            "Epoch 160: loss value = 0.1642045306562213\n",
            "Epoch 170: loss value = 0.15105814460986805\n",
            "Epoch 180: loss value = 0.14035757163449164\n",
            "Epoch 190: loss value = 0.1320786126103797\n",
            "Epoch 200: loss value = 0.12514615383611302\n",
            "Epoch 210: loss value = 0.11830354356441823\n",
            "Epoch 220: loss value = 0.11415438016035126\n",
            "Epoch 230: loss value = 0.10964720473493911\n",
            "Epoch 240: loss value = 0.10534721504803596\n",
            "Epoch 250: loss value = 0.10167128688709677\n",
            "Epoch 260: loss value = 0.09844377112554897\n",
            "Epoch 270: loss value = 0.09518977168208734\n",
            "Epoch 280: loss value = 0.09257134261528138\n",
            "Epoch 290: loss value = 0.0903023790770844\n"
          ]
        }
      ]
    },
    {
      "cell_type": "code",
      "source": [
        "plt.plot(history)\n",
        "plt.ylabel('loss value')\n",
        "plt.xlabel('episode')\n",
        "plt.show()"
      ],
      "metadata": {
        "colab": {
          "base_uri": "https://localhost:8080/",
          "height": 279
        },
        "id": "hWmr7J8qmASD",
        "outputId": "c4ca9405-7ffd-4b7b-9c33-6bfc09e03978"
      },
      "execution_count": 89,
      "outputs": [
        {
          "output_type": "display_data",
          "data": {
            "image/png": "[encoded data removed]",
            "text/plain": [
              "<Figure size 432x288 with 1 Axes>"
            ]
          },
          "metadata": {
            "needs_background": "light"
          }
        }
      ]
    },
    {
      "cell_type": "code",
      "source": [
        "X_test = X_test.reshape(X_test.shape[0], X_test.shape[1] * X_test.shape[2])\n",
        "X_test = np.hstack((X_test, np.zeros((X_test.shape[0], 1))))\n",
        "Y_test = np_utils.to_categorical(Y_test)\n",
        "def test_score(X, Y, model, train_test):\n",
        "  Y_predict = np.argmax(model.feed_forward(X)[1][-1], axis = 1)\n",
        "  Y_real = np.argmax(Y, axis = 1)\n",
        "  error = Y_predict - Y_real\n",
        "  score = error[error == 0].shape[0] / error.shape[0]\n",
        "  print(\"{} accuracy is {}%\".format(train_test, 100 * score))\n",
        "test_score(X_train, Y_train, model, \"Train\")\n",
        "test_score(X_test, Y_test, model, \"Test\")"
      ],
      "metadata": {
        "colab": {
          "base_uri": "https://localhost:8080/"
        },
        "id": "tLd3adpqSuJ4",
        "outputId": "8d7c9dc5-37c1-4d38-a894-d476b1a67caf"
      },
      "execution_count": 91,
      "outputs": [
        {
          "output_type": "stream",
          "name": "stdout",
          "text": [
            "Train accuracy is 98.19833333333334%\n",
            "Test accuracy is 94.91000000000001%\n"
          ]
        }
      ]
    }
  ]
}